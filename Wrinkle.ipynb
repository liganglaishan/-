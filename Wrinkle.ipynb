{
 "cells": [
  {
   "cell_type": "code",
   "execution_count": 1,
   "id": "4ea2c9ee",
   "metadata": {},
   "outputs": [],
   "source": [
    "import cv2 as cv\n",
    "import os\n",
    "import numpy as np\n",
    "import matplotlib.pyplot as plt"
   ]
  },
  {
   "cell_type": "code",
   "execution_count": 2,
   "id": "d9cc7d5b",
   "metadata": {},
   "outputs": [],
   "source": [
    "def kakaka(img_gray):\n",
    "    #自适应的直方图均衡化\n",
    "    clahe = cv.createCLAHE(clipLimit=2.0, tileGridSize=(8,8))\n",
    "    cl1 = clahe.apply(img_gray)\n",
    "    \n",
    "    #阈值处理 大于150的像素都设置成150\n",
    "    ret,trc=cv.threshold(cl1,150,255,cv.THRESH_TRUNC)\n",
    "    \n",
    "    img_gray=trc\n",
    "    \n",
    "    #自制横向核\n",
    "    kernel_1 = np.array([  \n",
    "                    [-1,-1,-1,-1,-1,-1,-1,-1,-1,-1],\n",
    "                    [0,0,0,0,0,0,0,0,0,0],\n",
    "                    [1,1,1,1,1,1,1,1,1,1]])\n",
    "    \n",
    "    img_hor = cv.filter2D(img_gray,-1,kernel_1)\n",
    "    \n",
    "    \n",
    "    rows,cols=img.shape[:2]\n",
    "    M=cv.getRotationMatrix2D((cols/2,rows/2),30,1)#第一个参数是旋转中心，第二个参数是旋转角度，第三个因子是旋转后的缩放因子\n",
    "    tilt1=cv.warpAffine(img,M,(cols,rows)) # 第三个参数是输出图像的尺寸中心，图像的宽和高\n",
    "    tilt1_gray = cv.cvtColor(tilt1, cv.COLOR_RGB2GRAY)\n",
    "    img_t = cv.filter2D(tilt1_gray,-1,kernel_1)\n",
    "    M=cv.getRotationMatrix2D((cols/2,rows/2),330,1)#第一个参数是旋转中心，第二个参数是旋转角度，第三个因子是旋转后的缩放因子\n",
    "    img_tilt=cv.warpAffine(img_t,M,(cols,rows)) # 第三个参数是输出图像的尺寸中心，图像的宽和高\n",
    "    \n",
    "    img_and = cv.bitwise_and(img_hor,img_tilt) \n",
    "    return img_and"
   ]
  },
  {
   "cell_type": "code",
   "execution_count": 15,
   "id": "babf25a2",
   "metadata": {},
   "outputs": [],
   "source": [
    "'''img = cv.imread('95-50.jpg')\n",
    "img_gray = cv.cvtColor(img, cv.COLOR_RGB2GRAY)\n",
    "out=kaka(img_gray)\n",
    "cv.imwrite(\"/debug/\"+\"\",out)'''\n",
    "\n",
    "for filename in os.listdir(\"F://Machine Learning//week8//Emotion_Rate-master//val_image_myo\"):\n",
    "    img1 = \"F://Machine Learning//week8//Emotion_Rate-master//val_image_myo\" + \"\\\\\" + filename\n",
    "    img = cv.imdecode(np.fromfile(img1, dtype=np.uint8), -1)\n",
    "    #img_data = np.asarray(img)\n",
    "    img_gray = cv.cvtColor(img, cv.COLOR_RGB2GRAY)\n",
    "    out=kakaka(img_gray)\n",
    "    cv.imwrite( \"F://Machine Learning//week8//Emotion_Rate-master//val_image\"+ \"/\" + filename, out)"
   ]
  },
  {
   "cell_type": "code",
   "execution_count": null,
   "id": "1f91d3f1",
   "metadata": {},
   "outputs": [],
   "source": []
  }
 ],
 "metadata": {
  "kernelspec": {
   "display_name": "Python 3",
   "language": "python",
   "name": "python3"
  },
  "language_info": {
   "codemirror_mode": {
    "name": "ipython",
    "version": 3
   },
   "file_extension": ".py",
   "mimetype": "text/x-python",
   "name": "python",
   "nbconvert_exporter": "python",
   "pygments_lexer": "ipython3",
   "version": "3.8.8"
  }
 },
 "nbformat": 4,
 "nbformat_minor": 5
}
